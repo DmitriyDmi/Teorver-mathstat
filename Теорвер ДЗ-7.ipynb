{
 "cells": [
  {
   "cell_type": "markdown",
   "id": "f3902e44",
   "metadata": {
    "toc": true
   },
   "source": [
    "<h1>Table of Contents<span class=\"tocSkip\"></span></h1>\n",
    "<div class=\"toc\"><ul class=\"toc-item\"><li><span><a href=\"#1-)--Даны-две--независимые-выборки.-Не-соблюдается-условие-нормальности\" data-toc-modified-id=\"1-)--Даны-две--независимые-выборки.-Не-соблюдается-условие-нормальности-1\"><span class=\"toc-item-num\">1&nbsp;&nbsp;</span>1 )  Даны две  независимые выборки. Не соблюдается условие нормальности</a></span></li><li><span><a href=\"#2-)-Исследовалось-влияние-препарата-на-уровень-давления-пациентов.-Сначала-измерялось-давление-до-приема-препарата,-потом-через-10-минут-и-через-30-минут.-Есть-ли-статистически-значимые-различия?\" data-toc-modified-id=\"2-)-Исследовалось-влияние-препарата-на-уровень-давления-пациентов.-Сначала-измерялось-давление-до-приема-препарата,-потом-через-10-минут-и-через-30-минут.-Есть-ли-статистически-значимые-различия?-2\"><span class=\"toc-item-num\">2&nbsp;&nbsp;</span>2 ) Исследовалось влияние препарата на уровень давления пациентов. Сначала измерялось давление до приема препарата, потом через 10 минут и через 30 минут. Есть ли статистически значимые различия?</a></span></li><li><span><a href=\"#3-)-Сравните-1-и-2-е-измерения,-предполагая,-что-3го-измерения-через-30-минут-не-было.\" data-toc-modified-id=\"3-)-Сравните-1-и-2-е-измерения,-предполагая,-что-3го-измерения-через-30-минут-не-было.-3\"><span class=\"toc-item-num\">3&nbsp;&nbsp;</span>3 ) Сравните 1 и 2 е измерения, предполагая, что 3го измерения через 30 минут не было.</a></span></li><li><span><a href=\"#4)-Даны-3-группы--учеников-плавания.\" data-toc-modified-id=\"4)-Даны-3-группы--учеников-плавания.-4\"><span class=\"toc-item-num\">4&nbsp;&nbsp;</span>4) Даны 3 группы  учеников плавания.</a></span></li><li><span><a href=\"#5)-Заявляется,-что-партия-изготавливается-со-средним-арифметическим-2,5-см.-Проверить-данную-гипотезу,-если-известно,-что-размеры-изделий-подчинены-нормальному-закону-распределения.-Объем-выборки-10,-уровень-статистической-значимости-5%\" data-toc-modified-id=\"5)-Заявляется,-что-партия-изготавливается-со-средним-арифметическим-2,5-см.-Проверить-данную-гипотезу,-если-известно,-что-размеры-изделий-подчинены-нормальному-закону-распределения.-Объем-выборки-10,-уровень-статистической-значимости-5%-5\"><span class=\"toc-item-num\">5&nbsp;&nbsp;</span>5) Заявляется, что партия изготавливается со средним арифметическим 2,5 см. Проверить данную гипотезу, если известно, что размеры изделий подчинены нормальному закону распределения. Объем выборки 10, уровень статистической значимости 5%</a></span></li></ul></div>"
   ]
  },
  {
   "cell_type": "markdown",
   "id": "c2c93fb6",
   "metadata": {},
   "source": [
    "### 1 )  Даны две  независимые выборки. Не соблюдается условие нормальности\n",
    "\n",
    "    x1  380,420, 290\n",
    "    y1 140,360,200,900\n",
    "\n",
    "Сделайте вывод по результатам, полученным с помощью функции"
   ]
  },
  {
   "cell_type": "code",
   "execution_count": 2,
   "id": "24f81c01",
   "metadata": {},
   "outputs": [],
   "source": [
    "import numpy as np\n",
    "from scipy import stats"
   ]
  },
  {
   "cell_type": "code",
   "execution_count": 1,
   "id": "72cc9306",
   "metadata": {},
   "outputs": [],
   "source": [
    "x1 = [380, 420, 290]\n",
    "y1 = [140, 360, 200, 900]"
   ]
  },
  {
   "cell_type": "code",
   "execution_count": 3,
   "id": "e19e7947",
   "metadata": {},
   "outputs": [
    {
     "data": {
      "text/plain": [
       "MannwhitneyuResult(statistic=8.0, pvalue=0.6285714285714286)"
      ]
     },
     "execution_count": 3,
     "metadata": {},
     "output_type": "execute_result"
    }
   ],
   "source": [
    "stats.mannwhitneyu(x1, y1)"
   ]
  },
  {
   "cell_type": "markdown",
   "id": "9fb0c69e",
   "metadata": {},
   "source": [
    "pvalue = 62% => оставляем Н0, статистических различий между выборками нет"
   ]
  },
  {
   "cell_type": "markdown",
   "id": "ad4c35fb",
   "metadata": {},
   "source": [
    "### 2 ) Исследовалось влияние препарата на уровень давления пациентов. Сначала измерялось давление до приема препарата, потом через 10 минут и через 30 минут. Есть ли статистически значимые различия?\n",
    "\n",
    "    1е измерение до приема препарата: 150, 160, 165, 145, 155\n",
    "    2е измерение через 10 минут: 140, 155, 150,  130, 135\n",
    "    3е измерение через 30 минут: 130, 130, 120, 130, 125"
   ]
  },
  {
   "cell_type": "code",
   "execution_count": 25,
   "id": "34bb069e",
   "metadata": {},
   "outputs": [],
   "source": [
    "x1 = [150, 160, 165, 145, 155]\n",
    "x2 = [140, 155, 150, 130, 135]\n",
    "x3 = [130, 130, 120, 130, 125]"
   ]
  },
  {
   "cell_type": "code",
   "execution_count": 5,
   "id": "061a17cf",
   "metadata": {},
   "outputs": [
    {
     "data": {
      "text/plain": [
       "(ShapiroResult(statistic=0.9867621660232544, pvalue=0.9671739339828491),\n",
       " ShapiroResult(statistic=0.9523513913154602, pvalue=0.753972589969635),\n",
       " ShapiroResult(statistic=0.7709078788757324, pvalue=0.04595423862338066))"
      ]
     },
     "execution_count": 5,
     "metadata": {},
     "output_type": "execute_result"
    }
   ],
   "source": [
    "stats.shapiro(x1), stats.shapiro(x2), stats.shapiro(x3)"
   ]
  },
  {
   "cell_type": "markdown",
   "id": "0e0a76cb",
   "metadata": {},
   "source": [
    "У первой и второй выборок распеределения нормальные, у третей не нормальное распределение.\n",
    "\n",
    "Используем 2 разных критерия для сравнения выборок 1, 2 и 1, 3"
   ]
  },
  {
   "cell_type": "code",
   "execution_count": 17,
   "id": "785ffeb2",
   "metadata": {},
   "outputs": [
    {
     "data": {
      "text/plain": [
       "Ttest_relResult(statistic=5.099019513592785, pvalue=0.0069873746653197335)"
      ]
     },
     "execution_count": 17,
     "metadata": {},
     "output_type": "execute_result"
    }
   ],
   "source": [
    "stats.ttest_rel(x1, x2)"
   ]
  },
  {
   "cell_type": "code",
   "execution_count": 26,
   "id": "61c71c92",
   "metadata": {},
   "outputs": [
    {
     "data": {
      "text/plain": [
       "WilcoxonResult(statistic=0.0, pvalue=0.0625)"
      ]
     },
     "execution_count": 26,
     "metadata": {},
     "output_type": "execute_result"
    }
   ],
   "source": [
    "stats.wilcoxon(x1, x3)"
   ]
  },
  {
   "cell_type": "markdown",
   "id": "1fc7684d",
   "metadata": {},
   "source": [
    "Результаты тестов неодназначны.\n",
    "\n",
    "Можно стказать, что между выборкой х1 и х2 есть статистически значимые отличия.\n",
    "\n",
    "Критерий Вилкоксона показывает, что различий между х1 и х3 нет."
   ]
  },
  {
   "cell_type": "markdown",
   "id": "388d8195",
   "metadata": {},
   "source": [
    "Проверим есть ли статистические различия между х2 и х3 разными тестами."
   ]
  },
  {
   "cell_type": "code",
   "execution_count": 28,
   "id": "89643f79",
   "metadata": {},
   "outputs": [
    {
     "data": {
      "text/plain": [
       "(WilcoxonResult(statistic=0.0, pvalue=0.06559969214707187),\n",
       " Ttest_relResult(statistic=2.7386127875258306, pvalue=0.051979694201925955))"
      ]
     },
     "execution_count": 28,
     "metadata": {},
     "output_type": "execute_result"
    }
   ],
   "source": [
    "stats.wilcoxon(x2, x3), stats.ttest_rel(x2, x3)"
   ]
  },
  {
   "cell_type": "markdown",
   "id": "27470a40",
   "metadata": {},
   "source": [
    "Оба теста показали, что статистических различий между х2 и х3 нет.\n",
    "\n",
    "Делаем вывод: через 10 минут довление имеет статистически значимые различия, далее, через 30 минут, даввление статистически не изменилось."
   ]
  },
  {
   "cell_type": "markdown",
   "id": "388e5f60",
   "metadata": {},
   "source": [
    "### 3 ) Сравните 1 и 2 е измерения, предполагая, что 3го измерения через 30 минут не было."
   ]
  },
  {
   "cell_type": "code",
   "execution_count": 29,
   "id": "7307b219",
   "metadata": {},
   "outputs": [
    {
     "data": {
      "text/plain": [
       "Ttest_relResult(statistic=5.099019513592785, pvalue=0.0069873746653197335)"
      ]
     },
     "execution_count": 29,
     "metadata": {},
     "output_type": "execute_result"
    }
   ],
   "source": [
    "# выше уже вычислялось\n",
    "# выборки зависимые, распределения нормальное\n",
    "stats.ttest_rel(x1, x2)"
   ]
  },
  {
   "cell_type": "markdown",
   "id": "33a13a2c",
   "metadata": {},
   "source": [
    "Различия есть."
   ]
  },
  {
   "cell_type": "markdown",
   "id": "dd58415d",
   "metadata": {},
   "source": [
    "### 4) Даны 3 группы  учеников плавания.\n",
    "В 1 группе время на дистанцию 50 м составляют:\n",
    "\n",
    "56, 60, 62, 55, 71, 67, 59, 58, 64, 67\n",
    "\n",
    "Вторая группа : 57, 58, 69, 48, 72, 70, 68, 71, 50, 53\n",
    "\n",
    "Третья группа: 57, 67, 49, 48, 47, 55, 66, 51, 54"
   ]
  },
  {
   "cell_type": "code",
   "execution_count": 30,
   "id": "f179da1c",
   "metadata": {},
   "outputs": [],
   "source": [
    "x1 = [56, 60, 62, 55, 71, 67, 59, 58, 64, 67]\n",
    "x2 = [57, 58, 69, 48, 72, 70, 68, 71, 50, 53]\n",
    "x3 = [57, 67, 49, 48, 47, 55, 66, 51, 54]"
   ]
  },
  {
   "cell_type": "code",
   "execution_count": 31,
   "id": "cec7d6bd",
   "metadata": {},
   "outputs": [
    {
     "data": {
      "text/plain": [
       "KruskalResult(statistic=5.465564058257224, pvalue=0.0650380998590494)"
      ]
     },
     "execution_count": 31,
     "metadata": {},
     "output_type": "execute_result"
    }
   ],
   "source": [
    "stats.kruskal(x1, x2, x3)"
   ]
  },
  {
   "cell_type": "markdown",
   "id": "8cc25446",
   "metadata": {},
   "source": [
    "Принимая уровень значимости за 5%, можно сказать, что статистический различий между группами нет"
   ]
  },
  {
   "cell_type": "markdown",
   "id": "f863ef39",
   "metadata": {},
   "source": [
    "### 5) Заявляется, что партия изготавливается со средним арифметическим 2,5 см. Проверить данную гипотезу, если известно, что размеры изделий подчинены нормальному закону распределения. Объем выборки 10, уровень статистической значимости 5%\n",
    "\n",
    "2.51, 2.35, 2.74, 2.56, 2.40, 2.36, 2.65, 2.7, 2.67, 2.34"
   ]
  },
  {
   "cell_type": "code",
   "execution_count": 32,
   "id": "280d91c6",
   "metadata": {},
   "outputs": [],
   "source": [
    "x = [2.51, 2.35, 2.74, 2.56, 2.40, 2.36, 2.65, 2.7, 2.67, 2.34]\n",
    "M = 2.5"
   ]
  },
  {
   "cell_type": "code",
   "execution_count": 37,
   "id": "6899d538",
   "metadata": {},
   "outputs": [
    {
     "data": {
      "text/plain": [
       "0.1572542173961923"
      ]
     },
     "execution_count": 37,
     "metadata": {},
     "output_type": "execute_result"
    }
   ],
   "source": [
    "std1 = np.std(x, ddof=1)\n",
    "std1"
   ]
  },
  {
   "cell_type": "code",
   "execution_count": 38,
   "id": "e83091cb",
   "metadata": {},
   "outputs": [
    {
     "data": {
      "text/plain": [
       "2.5279999999999996"
      ]
     },
     "execution_count": 38,
     "metadata": {},
     "output_type": "execute_result"
    }
   ],
   "source": [
    "M1 = np.mean(x)\n",
    "M1"
   ]
  },
  {
   "cell_type": "code",
   "execution_count": 39,
   "id": "f62aa82d",
   "metadata": {},
   "outputs": [
    {
     "data": {
      "text/plain": [
       "0.056306136618029586"
      ]
     },
     "execution_count": 39,
     "metadata": {},
     "output_type": "execute_result"
    }
   ],
   "source": [
    "t1 = (M1 - M)/(std1 * (10 ** 0.5))\n",
    "t1"
   ]
  },
  {
   "cell_type": "code",
   "execution_count": 40,
   "id": "a4e7c8d1",
   "metadata": {},
   "outputs": [],
   "source": [
    "# Табличное значение t при уровне значимости 95% и стапени свободы 9 для двухстороннего теста \n",
    "t = 2.262"
   ]
  },
  {
   "cell_type": "markdown",
   "id": "036fbb7f",
   "metadata": {},
   "source": [
    "t1 < t значит оставляем гепотизу Н0, средний размер 2.5см\n",
    "\n",
    "Проверим тестом"
   ]
  },
  {
   "cell_type": "code",
   "execution_count": 42,
   "id": "22afef9c",
   "metadata": {},
   "outputs": [
    {
     "data": {
      "text/plain": [
       "Ttest_1sampResult(statistic=0.5630613661802959, pvalue=0.5871439993940628)"
      ]
     },
     "execution_count": 42,
     "metadata": {},
     "output_type": "execute_result"
    }
   ],
   "source": [
    "stats.ttest_1samp(x, 2.5)"
   ]
  },
  {
   "cell_type": "markdown",
   "id": "b7d04b8e",
   "metadata": {},
   "source": [
    "Подтверждено."
   ]
  },
  {
   "cell_type": "code",
   "execution_count": null,
   "id": "e04c9a9a",
   "metadata": {},
   "outputs": [],
   "source": []
  }
 ],
 "metadata": {
  "kernelspec": {
   "display_name": "Python 3 (ipykernel)",
   "language": "python",
   "name": "python3"
  },
  "language_info": {
   "codemirror_mode": {
    "name": "ipython",
    "version": 3
   },
   "file_extension": ".py",
   "mimetype": "text/x-python",
   "name": "python",
   "nbconvert_exporter": "python",
   "pygments_lexer": "ipython3",
   "version": "3.9.13"
  },
  "toc": {
   "base_numbering": 1,
   "nav_menu": {},
   "number_sections": true,
   "sideBar": true,
   "skip_h1_title": true,
   "title_cell": "Table of Contents",
   "title_sidebar": "Contents",
   "toc_cell": true,
   "toc_position": {},
   "toc_section_display": true,
   "toc_window_display": false
  }
 },
 "nbformat": 4,
 "nbformat_minor": 5
}
