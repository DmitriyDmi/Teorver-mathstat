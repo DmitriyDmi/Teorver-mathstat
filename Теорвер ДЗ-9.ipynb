{
 "cells": [
  {
   "cell_type": "markdown",
   "id": "638b0dc6",
   "metadata": {
    "toc": true
   },
   "source": [
    "<h1>Table of Contents<span class=\"tocSkip\"></span></h1>\n",
    "<div class=\"toc\"><ul class=\"toc-item\"><li><span><a href=\"#Даны-значения-величины-заработной-платы-заемщиков-банка-(zp)-и-значения-их-поведенческого-кредитного-скоринга-(ks):-zp-=-[35,-45,-190,-200,-40,-70,-54,-150,-120,-110],-ks-=-[401,-574,-874,-919,-459,-739,-653,-902,-746,-832].-Используя-математические-операции,-посчитать-коэффициенты-линейной-регрессии,-приняв-за-X-заработную-плату-(то-есть,-zp---признак),-а-за-y---значения-скорингового-балла-(то-есть,-ks---целевая-переменная).-Произвести-расчет-как-с-использованием-intercept,-так-и-без.\" data-toc-modified-id=\"Даны-значения-величины-заработной-платы-заемщиков-банка-(zp)-и-значения-их-поведенческого-кредитного-скоринга-(ks):-zp-=-[35,-45,-190,-200,-40,-70,-54,-150,-120,-110],-ks-=-[401,-574,-874,-919,-459,-739,-653,-902,-746,-832].-Используя-математические-операции,-посчитать-коэффициенты-линейной-регрессии,-приняв-за-X-заработную-плату-(то-есть,-zp---признак),-а-за-y---значения-скорингового-балла-(то-есть,-ks---целевая-переменная).-Произвести-расчет-как-с-использованием-intercept,-так-и-без.-1\"><span class=\"toc-item-num\">1&nbsp;&nbsp;</span>Даны значения величины заработной платы заемщиков банка (zp) и значения их поведенческого кредитного скоринга (ks): zp = [35, 45, 190, 200, 40, 70, 54, 150, 120, 110], ks = [401, 574, 874, 919, 459, 739, 653, 902, 746, 832]. Используя математические операции, посчитать коэффициенты линейной регрессии, приняв за X заработную плату (то есть, zp - признак), а за y - значения скорингового балла (то есть, ks - целевая переменная). Произвести расчет как с использованием intercept, так и без.</a></span></li><li><span><a href=\"#Посчитать-коэффициент-линейной-регрессии-при-заработной-плате-(zp),-используя-градиентный-спуск-(без-intercept).\" data-toc-modified-id=\"Посчитать-коэффициент-линейной-регрессии-при-заработной-плате-(zp),-используя-градиентный-спуск-(без-intercept).-2\"><span class=\"toc-item-num\">2&nbsp;&nbsp;</span>Посчитать коэффициент линейной регрессии при заработной плате (zp), используя градиентный спуск (без intercept).</a></span></li><li><span><a href=\"#Произвести-вычисления-как-в-пункте-2,-но-с-вычислением-intercept.-Учесть,-что-изменение-коэффициентов-должно-производиться-на-каждом-шаге-одновременно-(то-есть-изменение-одного-коэффициента-не-должно-влиять-на-изменение-другого-во-время-одной-итерации).\" data-toc-modified-id=\"Произвести-вычисления-как-в-пункте-2,-но-с-вычислением-intercept.-Учесть,-что-изменение-коэффициентов-должно-производиться-на-каждом-шаге-одновременно-(то-есть-изменение-одного-коэффициента-не-должно-влиять-на-изменение-другого-во-время-одной-итерации).-3\"><span class=\"toc-item-num\">3&nbsp;&nbsp;</span>Произвести вычисления как в пункте 2, но с вычислением intercept. Учесть, что изменение коэффициентов должно производиться на каждом шаге одновременно (то есть изменение одного коэффициента не должно влиять на изменение другого во время одной итерации).</a></span></li></ul></div>"
   ]
  },
  {
   "cell_type": "markdown",
   "id": "21ea9acb",
   "metadata": {},
   "source": [
    "### Даны значения величины заработной платы заемщиков банка (zp) и значения их поведенческого кредитного скоринга (ks): zp = [35, 45, 190, 200, 40, 70, 54, 150, 120, 110], ks = [401, 574, 874, 919, 459, 739, 653, 902, 746, 832]. Используя математические операции, посчитать коэффициенты линейной регрессии, приняв за X заработную плату (то есть, zp - признак), а за y - значения скорингового балла (то есть, ks - целевая переменная). Произвести расчет как с использованием intercept, так и без."
   ]
  },
  {
   "cell_type": "code",
   "execution_count": 166,
   "id": "3cd71f59",
   "metadata": {},
   "outputs": [],
   "source": [
    "import numpy as np\n",
    "from sympy import *"
   ]
  },
  {
   "cell_type": "code",
   "execution_count": 3,
   "id": "4c5a8da7",
   "metadata": {},
   "outputs": [],
   "source": [
    "zp = np.array([35, 45, 190, 200, 40, 70, 54, 150, 120, 110])\n",
    "ks = np.array([401, 574, 874, 919, 459, 739, 653, 902, 746, 832])"
   ]
  },
  {
   "cell_type": "code",
   "execution_count": null,
   "id": "8a98b190",
   "metadata": {},
   "outputs": [],
   "source": []
  },
  {
   "cell_type": "code",
   "execution_count": 168,
   "id": "8b458a3e",
   "metadata": {},
   "outputs": [
    {
     "name": "stdout",
     "output_type": "stream",
     "text": [
      "Matrix([[35], [45], [190], [200], [40], [70], [54], [150], [120], [110]])\n",
      "Matrix([[401], [574], [874], [919], [459], [739], [653], [902], [746], [832]])\n"
     ]
    }
   ],
   "source": [
    "#Без интерсепта\n",
    "x = Matrix(zp)\n",
    "y = Matrix(ks)\n",
    "print(x)\n",
    "print(y)"
   ]
  },
  {
   "cell_type": "code",
   "execution_count": 169,
   "id": "94192645",
   "metadata": {},
   "outputs": [
    {
     "data": {
      "text/latex": [
       "$\\displaystyle \\left[\\begin{matrix}\\frac{811417}{137766}\\end{matrix}\\right]$"
      ],
      "text/plain": [
       "Matrix([[811417/137766]])"
      ]
     },
     "execution_count": 169,
     "metadata": {},
     "output_type": "execute_result"
    }
   ],
   "source": [
    "b = (x.T * x) ** (-1) * x.T * y\n",
    "b"
   ]
  },
  {
   "cell_type": "code",
   "execution_count": 172,
   "id": "7f9cc2b0",
   "metadata": {},
   "outputs": [
    {
     "name": "stdout",
     "output_type": "stream",
     "text": [
      "b1 = 5.88982\n"
     ]
    }
   ],
   "source": [
    "print(f'b1 = {round(float(b[0]),5)}')"
   ]
  },
  {
   "cell_type": "code",
   "execution_count": 5,
   "id": "5177b132",
   "metadata": {},
   "outputs": [
    {
     "name": "stdout",
     "output_type": "stream",
     "text": [
      "b1 = 2.620538882402765, b0 = 444.1773573243596\n"
     ]
    }
   ],
   "source": [
    "#С интерсептом\n",
    "b1 = (np.mean(zp * ks) - np.mean(zp) * np.mean(ks)) / (np.mean(zp ** 2) - np.mean(zp) ** 2)\n",
    "b0 = np.mean(ks) - b1 * np.mean(zp)\n",
    "print(f'b1 = {b1}, b0 = {b0}')"
   ]
  },
  {
   "cell_type": "markdown",
   "id": "64a132c7",
   "metadata": {},
   "source": [
    "### Посчитать коэффициент линейной регрессии при заработной плате (zp), используя градиентный спуск (без intercept)."
   ]
  },
  {
   "cell_type": "code",
   "execution_count": 162,
   "id": "73a8e532",
   "metadata": {},
   "outputs": [],
   "source": [
    "b1 = 1\n",
    "alpha = 0.0000002\n",
    "n = len(zp)"
   ]
  },
  {
   "cell_type": "code",
   "execution_count": 163,
   "id": "95fd304e",
   "metadata": {},
   "outputs": [],
   "source": [
    "def mse(x):\n",
    "    mse = 0\n",
    "    for i in range(n):\n",
    "        mse += ((x * zp[i] - ks[i]) ** 2) / n\n",
    "    return mse"
   ]
  },
  {
   "cell_type": "code",
   "execution_count": 164,
   "id": "bae13094",
   "metadata": {},
   "outputs": [],
   "source": [
    "def grad(x):\n",
    "    grad = 0\n",
    "    for i in range(n):\n",
    "        grad += ((x * zp[i] - ks[i]) * zp[i])\n",
    "    return grad * 2 / n"
   ]
  },
  {
   "cell_type": "code",
   "execution_count": 165,
   "id": "3186bc51",
   "metadata": {},
   "outputs": [
    {
     "name": "stdout",
     "output_type": "stream",
     "text": [
      "iter = 0, grag = -134730.2, b1 = 1.02695, mse = 382299.658\n",
      "iter = 100, grag = -77531.654747, b1 = 3.09144, mse = 164400.686\n",
      "iter = 200, grag = -44616.258922, b1 = 4.27947, mse = 92242.871\n",
      "iter = 300, grag = -25674.810717, b1 = 4.96313, mse = 68347.621\n",
      "iter = 400, grag = -14774.791103, b1 = 5.35655, mse = 60434.646\n",
      "iter = 500, grag = -8502.280875, b1 = 5.58294, mse = 57814.244\n",
      "iter = 600, grag = -4892.710805, b1 = 5.71323, mse = 56946.491\n",
      "iter = 700, grag = -2815.5526, b1 = 5.7882, mse = 56659.132\n",
      "iter = 800, grag = -1620.234009, b1 = 5.83134, mse = 56563.973\n",
      "iter = 900, grag = -932.377624, b1 = 5.85617, mse = 56532.46\n",
      "iter = 1000, grag = -536.54474, b1 = 5.87045, mse = 56522.025\n",
      "iter = 1100, grag = -308.759295, b1 = 5.87868, mse = 56518.569\n",
      "iter = 1200, grag = -177.678197, b1 = 5.88341, mse = 56517.425\n",
      "iter = 1300, grag = -102.24645, b1 = 5.88613, mse = 56517.046\n",
      "iter = 1400, grag = -58.838601, b1 = 5.8877, mse = 56516.921\n",
      "iter = 1500, grag = -33.85918, b1 = 5.8886, mse = 56516.879\n",
      "iter = 1600, grag = -19.484557, b1 = 5.88912, mse = 56516.865\n",
      "iter = 1700, grag = -11.212556, b1 = 5.88942, mse = 56516.861\n",
      "iter = 1800, grag = -6.452362, b1 = 5.88959, mse = 56516.859\n",
      "iter = 1900, grag = -3.713067, b1 = 5.88969, mse = 56516.859\n",
      "iter = 2000, grag = -2.136717, b1 = 5.88974, mse = 56516.858\n"
     ]
    }
   ],
   "source": [
    "b_new = b1\n",
    "for i in range(2001):\n",
    "    gradient = grad(b_new)\n",
    "    b_new -= alpha * gradient\n",
    "    if i % 100 == 0:\n",
    "        print(f'iter = {i}, grag = {round(gradient, 6)}, b1 = {round(b_new, 5)}, mse = {round(mse(b_new), 3)}')"
   ]
  },
  {
   "cell_type": "markdown",
   "id": "dda542c6",
   "metadata": {},
   "source": [
    "### Произвести вычисления как в пункте 2, но с вычислением intercept. Учесть, что изменение коэффициентов должно производиться на каждом шаге одновременно (то есть изменение одного коэффициента не должно влиять на изменение другого во время одной итерации)."
   ]
  },
  {
   "cell_type": "code",
   "execution_count": 176,
   "id": "bbc0e8e7",
   "metadata": {},
   "outputs": [
    {
     "data": {
      "text/latex": [
       "$\\displaystyle \\frac{\\left(b_{0} + b_{1} x - y\\right)^{2}}{10}$"
      ],
      "text/plain": [
       "(b0 + b1*x - y)**2/10"
      ]
     },
     "execution_count": 176,
     "metadata": {},
     "output_type": "execute_result"
    }
   ],
   "source": [
    "[b1, b0, x, y] = symbols('b1, b0, x, y')\n",
    "MSE = (np.sum(b1 * x + b0 - y) ** 2) / n\n",
    "MSE"
   ]
  },
  {
   "cell_type": "code",
   "execution_count": 182,
   "id": "17a27836",
   "metadata": {},
   "outputs": [],
   "source": [
    "def mse(b1, b0):\n",
    "    mse = 0\n",
    "    for i in range(n):\n",
    "        mse += ((b1 * zp[i] + b0 - ks[i]) ** 2) / n\n",
    "    return mse"
   ]
  },
  {
   "cell_type": "code",
   "execution_count": 178,
   "id": "d0bfb7d2",
   "metadata": {},
   "outputs": [
    {
     "data": {
      "text/latex": [
       "$\\displaystyle \\frac{x \\left(b_{0} + b_{1} x - y\\right)}{5}$"
      ],
      "text/plain": [
       "x*(b0 + b1*x - y)/5"
      ]
     },
     "execution_count": 178,
     "metadata": {},
     "output_type": "execute_result"
    }
   ],
   "source": [
    "# Найдем производные по b0 и b1\n",
    "b1_dif = diff(MSE, b1)\n",
    "b1_dif"
   ]
  },
  {
   "cell_type": "code",
   "execution_count": 180,
   "id": "47255a5b",
   "metadata": {},
   "outputs": [
    {
     "data": {
      "text/latex": [
       "$\\displaystyle \\frac{b_{0}}{5} + \\frac{b_{1} x}{5} - \\frac{y}{5}$"
      ],
      "text/plain": [
       "b0/5 + b1*x/5 - y/5"
      ]
     },
     "execution_count": 180,
     "metadata": {},
     "output_type": "execute_result"
    }
   ],
   "source": [
    "b0_dif = diff(MSE, b0)\n",
    "b0_dif"
   ]
  },
  {
   "cell_type": "code",
   "execution_count": 183,
   "id": "f151ca6f",
   "metadata": {},
   "outputs": [],
   "source": [
    "def grad(b1, b0):\n",
    "    grad1 = 0\n",
    "    grad2 = 0\n",
    "    for i in range(n):\n",
    "        grad1 += (zp[i] * (b0 + b1 * zp[i] - ks[i])) / 5\n",
    "        grad2 += b0 / 5 + (b1 * zp[i]) / 5 - ks[i] / 5\n",
    "    return np.array([grad1, grad2])"
   ]
  },
  {
   "cell_type": "code",
   "execution_count": 223,
   "id": "41fbe520",
   "metadata": {},
   "outputs": [],
   "source": [
    "alpha = 0.00005\n",
    "subs = np.array([1, 100])"
   ]
  },
  {
   "cell_type": "code",
   "execution_count": 225,
   "id": "25ea62a0",
   "metadata": {},
   "outputs": [
    {
     "name": "stdout",
     "output_type": "stream",
     "text": [
      "iter = 0, grag = [   0.9971093  -135.46866894]\n",
      "b1 = 4.586, b0 = 177.14679\n",
      "mse = 24558.073\n",
      "\n",
      "iter = 10000, grag = [   0.77371687 -105.11826005]\n",
      "b1 = 4.14566, b0 = 236.97233\n",
      "mse = 17361.244\n",
      "\n",
      "iter = 20000, grag = [  0.60037329 -81.56755862]\n",
      "b1 = 3.80397, b0 = 283.39456\n",
      "mse = 13027.933\n",
      "\n",
      "iter = 30000, grag = [  0.46586562 -63.29315779]\n",
      "b1 = 3.53884, b0 = 319.41635\n",
      "mse = 10418.787\n",
      "\n",
      "iter = 40000, grag = [  0.36149306 -49.11295484]\n",
      "b1 = 3.3331, b0 = 347.36781\n",
      "mse = 8847.784\n",
      "\n",
      "iter = 50000, grag = [  0.28050413 -38.10968543]\n",
      "b1 = 3.17346, b0 = 369.05703\n",
      "mse = 7901.862\n",
      "\n",
      "iter = 60000, grag = [  0.21765997 -29.57158917]\n",
      "b1 = 3.04958, b0 = 385.88699\n",
      "mse = 7332.308\n",
      "\n",
      "iter = 70000, grag = [  0.16889542 -22.94636852]\n",
      "b1 = 2.95346, b0 = 398.94637\n",
      "mse = 6989.373\n",
      "\n",
      "iter = 80000, grag = [  0.13105608 -17.80546271]\n",
      "b1 = 2.87887, b0 = 409.07992\n",
      "mse = 6782.886\n",
      "\n",
      "iter = 90000, grag = [  0.10169427 -13.81632575]\n",
      "b1 = 2.82099, b0 = 416.94315\n",
      "mse = 6658.558\n",
      "\n",
      "iter = 100000, grag = [  0.07891068 -10.72091529]\n",
      "b1 = 2.77608, b0 = 423.04471\n",
      "mse = 6583.698\n",
      "\n"
     ]
    }
   ],
   "source": [
    "\n",
    "for i in range(100001):\n",
    "    gradient = grad(subs[0], subs[1])\n",
    "    subs = subs - alpha * gradient\n",
    "    if i % 10000 == 0:\n",
    "        print(f'iter = {i}, grag = {gradient}')\n",
    "        print(f'b1 = {round(subs[0], 5)}, b0 = {round(subs[1], 5)}')\n",
    "        print(f'mse = {round(mse(subs[0], subs[1]), 3)}')\n",
    "        print()"
   ]
  },
  {
   "cell_type": "code",
   "execution_count": null,
   "id": "51930ce0",
   "metadata": {},
   "outputs": [],
   "source": []
  }
 ],
 "metadata": {
  "kernelspec": {
   "display_name": "Python 3 (ipykernel)",
   "language": "python",
   "name": "python3"
  },
  "language_info": {
   "codemirror_mode": {
    "name": "ipython",
    "version": 3
   },
   "file_extension": ".py",
   "mimetype": "text/x-python",
   "name": "python",
   "nbconvert_exporter": "python",
   "pygments_lexer": "ipython3",
   "version": "3.11.5"
  },
  "toc": {
   "base_numbering": 1,
   "nav_menu": {},
   "number_sections": true,
   "sideBar": true,
   "skip_h1_title": true,
   "title_cell": "Table of Contents",
   "title_sidebar": "Contents",
   "toc_cell": true,
   "toc_position": {},
   "toc_section_display": true,
   "toc_window_display": false
  }
 },
 "nbformat": 4,
 "nbformat_minor": 5
}
