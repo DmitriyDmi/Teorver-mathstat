{
 "cells": [
  {
   "cell_type": "markdown",
   "id": "f5275ef2",
   "metadata": {
    "toc": true
   },
   "source": [
    "<h1>Table of Contents<span class=\"tocSkip\"></span></h1>\n",
    "<div class=\"toc\"><ul class=\"toc-item\"><li><span><a href=\"#Провести-дисперсионный-анализ-для-определения-того,-есть-ли-различия-среднего-роста-среди-взрослых-футболистов,-хоккеистов-и-штангистов.-Даны-значения-роста-в-трех-группах-случайно-выбранных-спортсменов:\" data-toc-modified-id=\"Провести-дисперсионный-анализ-для-определения-того,-есть-ли-различия-среднего-роста-среди-взрослых-футболистов,-хоккеистов-и-штангистов.-Даны-значения-роста-в-трех-группах-случайно-выбранных-спортсменов:-1\"><span class=\"toc-item-num\">1&nbsp;&nbsp;</span>Провести дисперсионный анализ для определения того, есть ли различия среднего роста среди взрослых футболистов, хоккеистов и штангистов. Даны значения роста в трех группах случайно выбранных спортсменов:</a></span><ul class=\"toc-item\"><li><span><a href=\"#Вывод:\" data-toc-modified-id=\"Вывод:-1.1\"><span class=\"toc-item-num\">1.1&nbsp;&nbsp;</span>Вывод:</a></span></li></ul></li></ul></div>"
   ]
  },
  {
   "cell_type": "markdown",
   "id": "eb9d2f94",
   "metadata": {},
   "source": [
    "### Провести дисперсионный анализ для определения того, есть ли различия среднего роста среди взрослых футболистов, хоккеистов и штангистов. Даны значения роста в трех группах случайно выбранных спортсменов:\n",
    "\n",
    "Футболисты: 173, 175, 180, 178, 177, 185, 183, 182.\n",
    "\n",
    "Хоккеисты: 177, 179, 180, 188, 177, 172, 171, 184, 180.\n",
    "\n",
    "Штангисты: 172, 173, 169, 177, 166, 180, 178, 177, 172, 166, 170."
   ]
  },
  {
   "cell_type": "code",
   "execution_count": 3,
   "id": "f5629258",
   "metadata": {},
   "outputs": [],
   "source": [
    "from statsmodels.stats.multicomp import pairwise_tukeyhsd\n",
    "import pandas as pd\n",
    "import numpy as np"
   ]
  },
  {
   "cell_type": "code",
   "execution_count": 19,
   "id": "e0a3506b",
   "metadata": {},
   "outputs": [],
   "source": [
    "df = pd.DataFrame({'score': [173, 175, 180, 178, 177, 185, 183, 182,\n",
    "                            177, 179, 180, 188, 177, 172, 171, 184, 180,\n",
    "                            172, 173, 169, 177, 166, 180, 178, 177, 172, 166, 170],\n",
    "                  'group': np.repeat(['football','hockey','weightlifter'], repeats=[8, 9, 11])})"
   ]
  },
  {
   "cell_type": "code",
   "execution_count": 20,
   "id": "66d2a8ee",
   "metadata": {},
   "outputs": [],
   "source": [
    "tukey = pairwise_tukeyhsd(endog=df['score'],\n",
    "                         groups=df['group'],\n",
    "                         alpha=0.05)"
   ]
  },
  {
   "cell_type": "code",
   "execution_count": 21,
   "id": "497921fd",
   "metadata": {},
   "outputs": [
    {
     "name": "stdout",
     "output_type": "stream",
     "text": [
      "     Multiple Comparison of Means - Tukey HSD, FWER=0.05     \n",
      "=============================================================\n",
      " group1     group2    meandiff p-adj   lower    upper  reject\n",
      "-------------------------------------------------------------\n",
      "football       hockey  -0.4583  0.979  -6.2732  5.3566  False\n",
      "football weightlifter  -6.3977 0.0219 -11.9583 -0.8372   True\n",
      "  hockey weightlifter  -5.9394 0.0284 -11.3181 -0.5607   True\n",
      "-------------------------------------------------------------\n"
     ]
    }
   ],
   "source": [
    "print(tukey)"
   ]
  },
  {
   "cell_type": "markdown",
   "id": "bb3d492e",
   "metadata": {},
   "source": [
    "#### Вывод: \n",
    "Тест Тьюки показывает значимые различия между группой штангистов(`weightlifter`) и группами футболистов и хоккеистов. Уровень значимости p-value при сравнении средних данных групп 2.19% и 2.84% соответственно. Так же можно сказать, что средний рост штангистов статистически значимо ниже остальных выбранных спортсменов.\n",
    "\n",
    "Статистически значимых различий между футболистами и хоккеистами не обнаружено, p-value при сравнении данных групп 97.9%"
   ]
  },
  {
   "cell_type": "code",
   "execution_count": null,
   "id": "baec7770",
   "metadata": {},
   "outputs": [],
   "source": []
  }
 ],
 "metadata": {
  "kernelspec": {
   "display_name": "Python 3 (ipykernel)",
   "language": "python",
   "name": "python3"
  },
  "language_info": {
   "codemirror_mode": {
    "name": "ipython",
    "version": 3
   },
   "file_extension": ".py",
   "mimetype": "text/x-python",
   "name": "python",
   "nbconvert_exporter": "python",
   "pygments_lexer": "ipython3",
   "version": "3.11.5"
  },
  "toc": {
   "base_numbering": 1,
   "nav_menu": {},
   "number_sections": true,
   "sideBar": true,
   "skip_h1_title": true,
   "title_cell": "Table of Contents",
   "title_sidebar": "Contents",
   "toc_cell": true,
   "toc_position": {},
   "toc_section_display": true,
   "toc_window_display": false
  }
 },
 "nbformat": 4,
 "nbformat_minor": 5
}
