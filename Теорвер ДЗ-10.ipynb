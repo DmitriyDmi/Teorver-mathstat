{
 "cells": [
  {
   "cell_type": "markdown",
   "id": "bc1efd16",
   "metadata": {
    "toc": true
   },
   "source": [
    "<h1>Table of Contents<span class=\"tocSkip\"></span></h1>\n",
    "<div class=\"toc\"><ul class=\"toc-item\"><li><span><a href=\"#Провести-дисперсионный-анализ-для-определения-того,-есть-ли-различия-среднего-роста-среди-взрослых-футболистов,-хоккеистов-и-штангистов.-Даны-значения-роста-в-трех-группах-случайно-выбранных-спортсменов:\" data-toc-modified-id=\"Провести-дисперсионный-анализ-для-определения-того,-есть-ли-различия-среднего-роста-среди-взрослых-футболистов,-хоккеистов-и-штангистов.-Даны-значения-роста-в-трех-группах-случайно-выбранных-спортсменов:-1\"><span class=\"toc-item-num\">1&nbsp;&nbsp;</span>Провести дисперсионный анализ для определения того, есть ли различия среднего роста среди взрослых футболистов, хоккеистов и штангистов. Даны значения роста в трех группах случайно выбранных спортсменов:</a></span><ul class=\"toc-item\"><li><span><a href=\"#Вывод:\" data-toc-modified-id=\"Вывод:-1.1\"><span class=\"toc-item-num\">1.1&nbsp;&nbsp;</span>Вывод:</a></span></li></ul></li></ul></div>"
   ]
  },
  {
   "cell_type": "markdown",
   "id": "213183a9",
   "metadata": {},
   "source": [
    "### Провести дисперсионный анализ для определения того, есть ли различия среднего роста среди взрослых футболистов, хоккеистов и штангистов. Даны значения роста в трех группах случайно выбранных спортсменов:\n",
    "\n",
    "Футболисты: 173, 175, 180, 178, 177, 185, 183, 182.\n",
    "\n",
    "Хоккеисты: 177, 179, 180, 188, 177, 172, 171, 184, 180.\n",
    "\n",
    "Штангисты: 172, 173, 169, 177, 166, 180, 178, 177, 172, 166, 170."
   ]
  },
  {
   "cell_type": "code",
   "execution_count": 23,
   "id": "bd9fc3fb",
   "metadata": {},
   "outputs": [],
   "source": [
    "from statsmodels.stats.multicomp import pairwise_tukeyhsd\n",
    "import pandas as pd\n",
    "import numpy as np\n",
    "from scipy.stats import bartlett\n",
    "from scipy.stats import shapiro"
   ]
  },
  {
   "cell_type": "code",
   "execution_count": 24,
   "id": "d9b29969",
   "metadata": {},
   "outputs": [],
   "source": [
    "a1 = [173, 175, 180, 178, 177, 185, 183, 182]\n",
    "a2 = [177, 179, 180, 188, 177, 172, 171, 184, 180]\n",
    "a3 = [172, 173, 169, 177, 166, 180, 178, 177, 172, 166, 170]"
   ]
  },
  {
   "cell_type": "code",
   "execution_count": 26,
   "id": "e9385c7b",
   "metadata": {},
   "outputs": [
    {
     "data": {
      "text/plain": [
       "BartlettResult(statistic=0.4640521043406442, pvalue=0.7929254656083131)"
      ]
     },
     "execution_count": 26,
     "metadata": {},
     "output_type": "execute_result"
    }
   ],
   "source": [
    "bartlett(a1,a2,a3)"
   ]
  },
  {
   "cell_type": "markdown",
   "id": "030bb0d6",
   "metadata": {},
   "source": [
    "Тест Бартлетта говорит о том, что нужно оставить Н0, дисперсии статестически равны."
   ]
  },
  {
   "cell_type": "code",
   "execution_count": 27,
   "id": "c99c405f",
   "metadata": {},
   "outputs": [
    {
     "data": {
      "text/plain": [
       "(ShapiroResult(statistic=0.9775082468986511, pvalue=0.9495404362678528),\n",
       " ShapiroResult(statistic=0.9579196572303772, pvalue=0.7763139009475708),\n",
       " ShapiroResult(statistic=0.9386808276176453, pvalue=0.5051165223121643))"
      ]
     },
     "execution_count": 27,
     "metadata": {},
     "output_type": "execute_result"
    }
   ],
   "source": [
    "d1 = shapiro(a1)\n",
    "d2 = shapiro(a2)\n",
    "d3 = shapiro(a3)\n",
    "d1,d2,d3"
   ]
  },
  {
   "cell_type": "markdown",
   "id": "6f13d00e",
   "metadata": {},
   "source": [
    "Во всех выборках p-value больше 5%, значит все выборки нормально распределены."
   ]
  },
  {
   "cell_type": "code",
   "execution_count": 19,
   "id": "6cc1c38b",
   "metadata": {},
   "outputs": [],
   "source": [
    "df = pd.DataFrame({'score': [173, 175, 180, 178, 177, 185, 183, 182,\n",
    "                            177, 179, 180, 188, 177, 172, 171, 184, 180,\n",
    "                            172, 173, 169, 177, 166, 180, 178, 177, 172, 166, 170],\n",
    "                  'group': np.repeat(['football','hockey','weightlifter'], repeats=[8, 9, 11])})"
   ]
  },
  {
   "cell_type": "code",
   "execution_count": 20,
   "id": "21bcd9cc",
   "metadata": {},
   "outputs": [],
   "source": [
    "tukey = pairwise_tukeyhsd(endog=df['score'],\n",
    "                         groups=df['group'],\n",
    "                         alpha=0.05)"
   ]
  },
  {
   "cell_type": "code",
   "execution_count": 21,
   "id": "9bc09419",
   "metadata": {},
   "outputs": [
    {
     "name": "stdout",
     "output_type": "stream",
     "text": [
      "     Multiple Comparison of Means - Tukey HSD, FWER=0.05     \n",
      "=============================================================\n",
      " group1     group2    meandiff p-adj   lower    upper  reject\n",
      "-------------------------------------------------------------\n",
      "football       hockey  -0.4583  0.979  -6.2732  5.3566  False\n",
      "football weightlifter  -6.3977 0.0219 -11.9583 -0.8372   True\n",
      "  hockey weightlifter  -5.9394 0.0284 -11.3181 -0.5607   True\n",
      "-------------------------------------------------------------\n"
     ]
    }
   ],
   "source": [
    "print(tukey)"
   ]
  },
  {
   "cell_type": "markdown",
   "id": "2c4158c6",
   "metadata": {},
   "source": [
    "#### Вывод: \n",
    "Тест Тьюки показывает значимые различия между группой штангистов(`weightlifter`) и группами футболистов и хоккеистов. Уровень значимости p-value при сравнении средних данных групп 2.19% и 2.84% соответственно. Так же можно сказать, что средний рост штангистов статистически значимо ниже остальных выбранных спортсменов.\n",
    "\n",
    "Статистически значимых различий между футболистами и хоккеистами не обнаружено, p-value при сравнении данных групп 97.9%"
   ]
  },
  {
   "cell_type": "code",
   "execution_count": null,
   "id": "fefab356",
   "metadata": {},
   "outputs": [],
   "source": []
  }
 ],
 "metadata": {
  "kernelspec": {
   "display_name": "Python 3 (ipykernel)",
   "language": "python",
   "name": "python3"
  },
  "language_info": {
   "codemirror_mode": {
    "name": "ipython",
    "version": 3
   },
   "file_extension": ".py",
   "mimetype": "text/x-python",
   "name": "python",
   "nbconvert_exporter": "python",
   "pygments_lexer": "ipython3",
   "version": "3.11.5"
  },
  "toc": {
   "base_numbering": 1,
   "nav_menu": {},
   "number_sections": true,
   "sideBar": true,
   "skip_h1_title": true,
   "title_cell": "Table of Contents",
   "title_sidebar": "Contents",
   "toc_cell": true,
   "toc_position": {},
   "toc_section_display": true,
   "toc_window_display": false
  }
 },
 "nbformat": 4,
 "nbformat_minor": 5
}
